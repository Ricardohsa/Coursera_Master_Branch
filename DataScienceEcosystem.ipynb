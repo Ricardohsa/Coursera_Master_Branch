{
 "cells": [
  {
   "cell_type": "markdown",
   "id": "68cf6780-50cb-4cfb-ac42-bfb423d6ecba",
   "metadata": {},
   "source": [
    "# Data Science Tools and Ecosystem"
   ]
  },
  {
   "cell_type": "markdown",
   "id": "53d44a85-a263-4a72-b74a-9cdc9840e492",
   "metadata": {},
   "source": [
    "In this notebook, Data Science Tools and Ecosystem are summarized.    "
   ]
  },
  {
   "cell_type": "markdown",
   "id": "0f6c5e07-b17f-4bde-a27b-3b203978b431",
   "metadata": {},
   "source": [
    "**Objectives:**\n",
    "- Tools\n",
    "- Languages \n",
    "- Version Control - Git, Github\n",
    "- Data Science Libraries"
   ]
  },
  {
   "cell_type": "markdown",
   "id": "df814c41-e1d3-4edd-9f2e-255b4e736069",
   "metadata": {},
   "source": [
    "Some of the popular languages that Data Scientists use are:\n",
    "1. Python\n",
    "2. SQL\n",
    "3. R"
   ]
  },
  {
   "cell_type": "markdown",
   "id": "969fff3a-15b7-4a94-9b07-1938a9dcd1d3",
   "metadata": {},
   "source": [
    "Some of the commonly used libraries used by Data Scientists include:\n",
    "1. TensorFlow\n",
    "2. NumpY\n",
    "3. SciPy"
   ]
  },
  {
   "cell_type": "markdown",
   "id": "21722180-faac-4df4-a94c-3babae55873d",
   "metadata": {},
   "source": [
    "\n",
    "| Data Science Tools  |\n",
    "|---------------------|\n",
    "|   Python            |\n",
    "|   R Programming     |\n",
    "|  Jupyter Notebook   |"
   ]
  },
  {
   "cell_type": "markdown",
   "id": "298492ff-26c4-4348-87bb-e60ae8abbf10",
   "metadata": {},
   "source": [
    "### Below are a few examples of evaluating arithmetic expressions in Python"
   ]
  },
  {
   "cell_type": "code",
   "execution_count": 3,
   "id": "af022317-d0af-42af-a8a6-94b51280cb46",
   "metadata": {
    "tags": []
   },
   "outputs": [
    {
     "data": {
      "text/plain": [
       "17"
      ]
     },
     "execution_count": 3,
     "metadata": {},
     "output_type": "execute_result"
    }
   ],
   "source": [
    "# This a simple arithmetic expression to mutiply then add integers\n",
    "(3*4)+5"
   ]
  },
  {
   "cell_type": "code",
   "execution_count": 6,
   "id": "c6ad4663-9e83-4ed0-97a8-fb966810b343",
   "metadata": {
    "tags": []
   },
   "outputs": [
    {
     "data": {
      "text/plain": [
       "3.3333333333333335"
      ]
     },
     "execution_count": 6,
     "metadata": {},
     "output_type": "execute_result"
    }
   ],
   "source": [
    "# This will convert 200 minutes to hours by diving by 60\n",
    "200 /60"
   ]
  },
  {
   "cell_type": "markdown",
   "id": "df16d59c-8131-4fb8-a0f6-84be7ecd00db",
   "metadata": {},
   "source": [
    "## Author\n",
    "Ricardo "
   ]
  },
  {
   "cell_type": "code",
   "execution_count": null,
   "id": "554f43cb-58b7-46f8-82b9-fcb2174bcadb",
   "metadata": {},
   "outputs": [],
   "source": []
  }
 ],
 "metadata": {
  "kernelspec": {
   "display_name": "Python 3 (ipykernel)",
   "language": "python",
   "name": "python3"
  },
  "language_info": {
   "codemirror_mode": {
    "name": "ipython",
    "version": 3
   },
   "file_extension": ".py",
   "mimetype": "text/x-python",
   "name": "python",
   "nbconvert_exporter": "python",
   "pygments_lexer": "ipython3",
   "version": "3.11.3"
  }
 },
 "nbformat": 4,
 "nbformat_minor": 5
}
